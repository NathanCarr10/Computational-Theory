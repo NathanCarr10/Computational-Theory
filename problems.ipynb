{
 "cells": [
  {
   "cell_type": "markdown",
   "id": "384513d2",
   "metadata": {},
   "source": [
    "## Computational Theory Problems"
   ]
  },
  {
   "cell_type": "markdown",
   "id": "cc6036d0",
   "metadata": {},
   "source": [
    "# Numerical arrays and methods"
   ]
  },
  {
   "cell_type": "code",
   "execution_count": 8,
   "id": "b7054847",
   "metadata": {},
   "outputs": [],
   "source": [
    "\n",
    "import numpy as np"
   ]
  },
  {
   "cell_type": "markdown",
   "id": "654bca85",
   "metadata": {},
   "source": [
    "## Problem 1: Binary Words and Operations"
   ]
  },
  {
   "cell_type": "code",
   "execution_count": null,
   "id": "f5fa771d",
   "metadata": {},
   "outputs": [],
   "source": []
  },
  {
   "cell_type": "markdown",
   "id": "5c0378ed",
   "metadata": {},
   "source": [
    "## Problem 2: Fractional Parts of Cube Roots"
   ]
  },
  {
   "cell_type": "markdown",
   "id": "ad59d9b9",
   "metadata": {},
   "source": [
    "## Problem 3: Padding"
   ]
  },
  {
   "cell_type": "markdown",
   "id": "de1c7ffb",
   "metadata": {},
   "source": [
    "## Problem 4: Hashes"
   ]
  },
  {
   "cell_type": "markdown",
   "id": "1b8ff1d2",
   "metadata": {},
   "source": [
    "## Problem 5: Passwords"
   ]
  },
  {
   "cell_type": "code",
   "execution_count": null,
   "id": "3afcd83d",
   "metadata": {},
   "outputs": [],
   "source": []
  },
  {
   "cell_type": "code",
   "execution_count": null,
   "id": "22829705",
   "metadata": {},
   "outputs": [],
   "source": []
  },
  {
   "cell_type": "code",
   "execution_count": null,
   "id": "dd8d9ccf",
   "metadata": {},
   "outputs": [],
   "source": []
  },
  {
   "cell_type": "code",
   "execution_count": null,
   "id": "fead3835",
   "metadata": {},
   "outputs": [],
   "source": []
  },
  {
   "cell_type": "code",
   "execution_count": null,
   "id": "13a9c987",
   "metadata": {},
   "outputs": [],
   "source": []
  },
  {
   "cell_type": "code",
   "execution_count": null,
   "id": "52adc743",
   "metadata": {},
   "outputs": [],
   "source": []
  }
 ],
 "metadata": {
  "kernelspec": {
   "display_name": "Python 3",
   "language": "python",
   "name": "python3"
  },
  "language_info": {
   "codemirror_mode": {
    "name": "ipython",
    "version": 3
   },
   "file_extension": ".py",
   "mimetype": "text/x-python",
   "name": "python",
   "nbconvert_exporter": "python",
   "pygments_lexer": "ipython3",
   "version": "3.12.1"
  }
 },
 "nbformat": 4,
 "nbformat_minor": 5
}
